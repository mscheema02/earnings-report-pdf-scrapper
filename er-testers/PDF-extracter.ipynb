{
 "cells": [
  {
   "cell_type": "code",
   "execution_count": 4,
   "id": "f0e2e3c1-5426-47d8-9cbb-e7895f7c6c08",
   "metadata": {},
   "outputs": [],
   "source": [
    "import requests\n",
    "import pdfplumber"
   ]
  },
  {
   "cell_type": "code",
   "execution_count": 3,
   "id": "d2fcb800-a843-4415-94b1-e2d165df3c5e",
   "metadata": {},
   "outputs": [],
   "source": [
    "def download_file(url):\n",
    "    local_filename = url.split('/')[-1]\n",
    "    \n",
    "    with requests.get(url) as r:\n",
    "        with open(local_filename, 'wb') as f:\n",
    "            f.write(r.content)\n",
    "    \n",
    "    return local_filename"
   ]
  },
  {
   "cell_type": "code",
   "execution_count": 26,
   "id": "8fb0df48-2455-40ff-942e-913cf8a76f6d",
   "metadata": {},
   "outputs": [],
   "source": [
    "inputUrl = 'https://s21.q4cdn.com/399680738/files/doc_financials/2022/q2/Meta-06.30.2022-Exhibit-99.1-Final.pdf'"
   ]
  },
  {
   "cell_type": "code",
   "execution_count": 27,
   "id": "14551e45-7396-4e5a-958b-7e9e6e05981f",
   "metadata": {},
   "outputs": [],
   "source": [
    "inputFile = '20220427_alphabet_10Q.pdf'"
   ]
  },
  {
   "cell_type": "code",
   "execution_count": 28,
   "id": "8a709abd-9cea-4580-bda5-9986629c8679",
   "metadata": {},
   "outputs": [],
   "source": [
    "with pdfplumber.open(inputFile) as pdf:\n",
    "    page = pdf.pages[5]\n",
    "    text = page.extract_text()"
   ]
  },
  {
   "cell_type": "code",
   "execution_count": 29,
   "id": "e85ade41-0763-4952-8051-90698b000328",
   "metadata": {},
   "outputs": [
    {
     "name": "stdout",
     "output_type": "stream",
     "text": [
      "Table of Contents Alphabet Inc.\n",
      "Alphabet Inc.\n",
      "CONSOLIDATED STATEMENTS OF INCOME\n",
      "(in millions, except per share amounts; unaudited)\n",
      "Three Months Ended\n",
      "March 31,\n",
      "2021 2022\n",
      "Revenues $  55,314  $  68,011 \n",
      "Costs and expenses:\n",
      "Cost of revenues   24,103    29,599 \n",
      "Research and development   7,485    9,119 \n",
      "Sales and marketing   4,516    5,825 \n",
      "General and administrative   2,773    3,374 \n",
      "Total costs and expenses   38,877    47,917 \n",
      "Income from operations   16,437    20,094 \n",
      "Other income (expense), net   4,846    (1,160) \n",
      "Income before income taxes   21,283    18,934 \n",
      "Provision for income taxes   3,353    2,498 \n",
      "Net income $  17,930  $  16,436 \n",
      "Basic net income per share of Class A, Class B, and Class C stock $  26.63  $  24.90 \n",
      "Diluted net income per share of Class A, Class B, and Class C stock $  26.29  $  24.62 \n",
      "See accompanying notes.\n",
      "6\n"
     ]
    }
   ],
   "source": [
    "print(text)"
   ]
  },
  {
   "cell_type": "code",
   "execution_count": 57,
   "id": "cce3b6ff-c624-41f4-ac98-2a431d3b4caa",
   "metadata": {},
   "outputs": [
    {
     "ename": "SyntaxError",
     "evalue": "invalid syntax (2017015398.py, line 3)",
     "output_type": "error",
     "traceback": [
      "\u001b[1;36m  Input \u001b[1;32mIn [57]\u001b[1;36m\u001b[0m\n\u001b[1;33m    netIncome = row.split(4)[]\u001b[0m\n\u001b[1;37m                             ^\u001b[0m\n\u001b[1;31mSyntaxError\u001b[0m\u001b[1;31m:\u001b[0m invalid syntax\n"
     ]
    }
   ],
   "source": [
    "for row in text.split('\\n'):\n",
    "        if row.startswith(\"Net income\"):\n",
    "            netIncome = row.split(4)[]"
   ]
  },
  {
   "cell_type": "code",
   "execution_count": 58,
   "id": "c3be0df1-5ce1-4041-b6b2-17ad5afbc22b",
   "metadata": {},
   "outputs": [
    {
     "data": {
      "text/plain": [
       "'17,930'"
      ]
     },
     "execution_count": 58,
     "metadata": {},
     "output_type": "execute_result"
    }
   ],
   "source": [
    "netIncome"
   ]
  },
  {
   "cell_type": "code",
   "execution_count": null,
   "id": "69e69850-9432-491c-a6fd-c80674df1ac9",
   "metadata": {},
   "outputs": [],
   "source": []
  },
  {
   "cell_type": "code",
   "execution_count": null,
   "id": "161bfa52-9874-482d-92bd-2d6488f20cca",
   "metadata": {},
   "outputs": [],
   "source": []
  }
 ],
 "metadata": {
  "kernelspec": {
   "display_name": "Python 3",
   "language": "python",
   "name": "python3"
  },
  "language_info": {
   "codemirror_mode": {
    "name": "ipython",
    "version": 3
   },
   "file_extension": ".py",
   "mimetype": "text/x-python",
   "name": "python",
   "nbconvert_exporter": "python",
   "pygments_lexer": "ipython3",
   "version": "3.10.4"
  }
 },
 "nbformat": 4,
 "nbformat_minor": 5
}
